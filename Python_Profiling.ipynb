{
 "cells": [
  {
   "cell_type": "code",
   "execution_count": 31,
   "metadata": {},
   "outputs": [
    {
     "name": "stdout",
     "output_type": "stream",
     "text": [
      "It took 5.00058388710022 seconds\n"
     ]
    }
   ],
   "source": [
    "import time\n",
    "s_time = time.time() # This gives the current time \n",
    "time.sleep(5)        # The programme is delayed by 5 seconds before the next line executes\n",
    "e_time = time.time() \n",
    "print(f\"It took {e_time - s_time} seconds\")"
   ]
  },
  {
   "cell_type": "code",
   "execution_count": 2,
   "metadata": {},
   "outputs": [
    {
     "name": "stdout",
     "output_type": "stream",
     "text": [
      "Wrapper executed this before display function\n",
      "Display function ran\n"
     ]
    }
   ],
   "source": [
    "# Decorator function --> Similar to function within a function(That is a closure of a function).\n",
    "\n",
    "def decorator_function(original_function):\n",
    "    def wrapper_function():\n",
    "        print('Wrapper executed this before {} function'.format(original_function.__name__)) # {} --> placeholder \n",
    "        return original_function()\n",
    "    return wrapper_function\n",
    "\n",
    "def display():\n",
    "    print('Display function ran')\n",
    "\n",
    "decorator_display = decorator_function(display)\n",
    "decorator_display()"
   ]
  },
  {
   "cell_type": "code",
   "execution_count": 3,
   "metadata": {},
   "outputs": [
    {
     "name": "stdout",
     "output_type": "stream",
     "text": [
      "This was executed before my_func function\n",
      "I understood what a decorator is\n",
      "decorator_function2\n"
     ]
    }
   ],
   "source": [
    "# Making my own decorator function\n",
    "from functools import wraps\n",
    "def decorator_function2(func):\n",
    "    @wraps(func)\n",
    "    def wrapper2():\n",
    "        print(\"This was executed before {} function\".format(func.__name__))\n",
    "        return func()\n",
    "    return wrapper2\n",
    "\n",
    "@decorator_function2\n",
    "def my_func():\n",
    "    print(\"I understood what a decorator is\")\n",
    "\n",
    "# a = decorator_function2(my_func) --> This line is equivalent to @decorator_functinon2,and we would always use that notion since the output remains the same\n",
    "my_func()\n",
    "print(decorator_function2.__name__) # Here __name__ is a type of metadata. So functools.wraps is used to preserve the metadata of the original function when it’s wrapped by a decorator."
   ]
  },
  {
   "cell_type": "code",
   "execution_count": 4,
   "metadata": {},
   "outputs": [
    {
     "name": "stdout",
     "output_type": "stream",
     "text": [
      "Hello my name is Veer Kamdar and I am an aspring ML engineer\n",
      "My age is 22 and my hobby is to play Basketball.\n"
     ]
    }
   ],
   "source": [
    "def decorator_function3(function):\n",
    "    def wrapper3(*args, **kwargs): # *args, **kwargs are used to pass any number of arguments from our functions\n",
    "        return function(*args,**kwargs)\n",
    "    return wrapper3\n",
    "\n",
    "@decorator_function3\n",
    "def my_func2():\n",
    "    print('Hello my name is Veer Kamdar and I am an aspring ML engineer')\n",
    "\n",
    "@decorator_function3\n",
    "def myself(age,hobby):\n",
    "    print(\"My age is {} and my hobby is to play {}.\".format(age,hobby))\n",
    "\n",
    "my_func2()\n",
    "myself(22,\"Basketball\")\n",
    "\n"
   ]
  },
  {
   "cell_type": "code",
   "execution_count": 5,
   "metadata": {},
   "outputs": [],
   "source": [
    "def time_function(func):\n",
    "    @wraps(func)\n",
    "    def my_func(*args, **kwargs):\n",
    "        t1 = time.time()\n",
    "        result = func(*args, **kwargs)\n",
    "        t2 = time.time()\n",
    "        print(\"The {} function took {} seconds\".format(func.__name__,t2-t1))\n",
    "        return result\n",
    "    return my_func"
   ]
  },
  {
   "cell_type": "code",
   "execution_count": 6,
   "metadata": {},
   "outputs": [
    {
     "name": "stdout",
     "output_type": "stream",
     "text": [
      "The sleep_function function took 1.5051994323730469 seconds\n",
      "The squaring_function function took 1.503122091293335 seconds\n"
     ]
    }
   ],
   "source": [
    "@time_function\n",
    "def sleep_function():\n",
    "    time.sleep(1.5)\n",
    "\n",
    "@time_function\n",
    "def squaring_function(x):\n",
    "    time.sleep(1.5)\n",
    "    y = x*x\n",
    "\n",
    "sleep_function()\n",
    "squaring_function(2)"
   ]
  },
  {
   "cell_type": "code",
   "execution_count": 7,
   "metadata": {},
   "outputs": [
    {
     "name": "stdout",
     "output_type": "stream",
     "text": [
      "Requirement already satisfied: line_profiler in c:\\anaconda\\lib\\site-packages (4.2.0)\n",
      "Note: you may need to restart the kernel to use updated packages.\n"
     ]
    },
    {
     "name": "stderr",
     "output_type": "stream",
     "text": [
      "\n",
      "[notice] A new release of pip is available: 24.2 -> 24.3.1\n",
      "[notice] To update, run: python.exe -m pip install --upgrade pip\n"
     ]
    }
   ],
   "source": [
    "%pip install line_profiler"
   ]
  },
  {
   "cell_type": "code",
   "execution_count": 8,
   "metadata": {},
   "outputs": [
    {
     "name": "stdout",
     "output_type": "stream",
     "text": [
      "6.71 µs ± 466 ns per loop (mean ± std. dev. of 7 runs, 100000 loops each)\n"
     ]
    }
   ],
   "source": [
    "%timeit ( [i*i for i in range(100)]) # %timeit is used for knowing the avg loop speed"
   ]
  },
  {
   "cell_type": "code",
   "execution_count": 9,
   "metadata": {},
   "outputs": [
    {
     "name": "stdout",
     "output_type": "stream",
     "text": [
      "11 µs ± 917 ns per loop (mean ± std. dev. of 7 runs, 100000 loops each)\n"
     ]
    }
   ],
   "source": [
    "%%timeit # %%timeit is used for knowing the avg loop speed for multiple lines of code,  %% is referred to as cell magic.\n",
    "a = []\n",
    "for i in range(100):\n",
    "    a.append(i*i) # takes more time because of list resizing"
   ]
  },
  {
   "cell_type": "code",
   "execution_count": 10,
   "metadata": {},
   "outputs": [
    {
     "name": "stdout",
     "output_type": "stream",
     "text": [
      "Requirement already satisfied: memory_profiler in c:\\anaconda\\lib\\site-packages (0.61.0)\n",
      "Requirement already satisfied: psutil in c:\\anaconda\\lib\\site-packages (from memory_profiler) (5.9.0)\n",
      "Note: you may need to restart the kernel to use updated packages.\n"
     ]
    },
    {
     "name": "stderr",
     "output_type": "stream",
     "text": [
      "\n",
      "[notice] A new release of pip is available: 24.2 -> 24.3.1\n",
      "[notice] To update, run: python.exe -m pip install --upgrade pip\n"
     ]
    }
   ],
   "source": [
    "%pip install memory_profiler"
   ]
  },
  {
   "cell_type": "markdown",
   "metadata": {},
   "source": [
    "In Python lists are dynamic and one of the biggest pros of lists is that user need not define the size of the list before hand. One of the biggest cons of using lists is that resizing them is slower and due to resizing the list takes up more space than the elements it holds."
   ]
  },
  {
   "cell_type": "code",
   "execution_count": 12,
   "metadata": {},
   "outputs": [
    {
     "name": "stdout",
     "output_type": "stream",
     "text": [
      "peak memory: 113.12 MiB, increment: 34.11 MiB\n"
     ]
    }
   ],
   "source": [
    "%load_ext memory_profiler\n",
    "%memit [i*i for i in range(1000000)]"
   ]
  },
  {
   "cell_type": "markdown",
   "metadata": {},
   "source": [
    "MiB stands for **Mebibyte**, a unit of measurement for digital information and storage. It is a part of the binary system of measurement, which is commonly used in computing.It is based on powers of 2, as opposed to the metric system (base 10).\n",
    "\n",
    "-->Computers operate on a binary system, where memory is organized in powers of 2.\n",
    "\n",
    "-->The binary-based measurement (MiB) reflects the actual size used by the hardware, whereas MB is more commonly used in consumer-facing contexts like file sizes or storage capacities.\n",
    "\n",
    "-->1 MiB = 2²⁰ bytes = 1,048,576 bytes.\n"
   ]
  },
  {
   "cell_type": "code",
   "execution_count": 13,
   "metadata": {},
   "outputs": [
    {
     "name": "stdout",
     "output_type": "stream",
     "text": [
      "peak memory: 119.83 MiB, increment: 39.38 MiB\n"
     ]
    }
   ],
   "source": [
    "%%memit a = []\n",
    "for i in range(1000000):\n",
    "    a.append(i*i)"
   ]
  },
  {
   "cell_type": "code",
   "execution_count": 16,
   "metadata": {},
   "outputs": [],
   "source": [
    "# python profiling for lists vs numpy arrays\n",
    "\n",
    "from array import array\n",
    "import numpy as np\n",
    "\n",
    "def norm_square_list(vector):\n",
    "    norm = 0\n",
    "    for i in vector:\n",
    "        norm = norm + (i*i)\n",
    "    return norm\n",
    "\n",
    "def norm_square_list_comprehension(vector):\n",
    "    return sum([v*v for v in vector])\n",
    "\n",
    "def norm_square_numpy(vector):\n",
    "    return np.sum(vector*vector)\n",
    "\n",
    "def norm_square_numpy_dot(vector):\n",
    "    return np.dot(vector,vector)"
   ]
  },
  {
   "cell_type": "code",
   "execution_count": 20,
   "metadata": {},
   "outputs": [
    {
     "name": "stdout",
     "output_type": "stream",
     "text": [
      "115 ms ± 4.15 ms per loop (mean ± std. dev. of 7 runs, 10 loops each)\n"
     ]
    }
   ],
   "source": [
    "%%timeit\n",
    "vector = list(range(1000000))\n",
    "norm_square_list(vector)"
   ]
  },
  {
   "cell_type": "code",
   "execution_count": 23,
   "metadata": {},
   "outputs": [
    {
     "name": "stdout",
     "output_type": "stream",
     "text": [
      "158 ms ± 4.44 ms per loop (mean ± std. dev. of 7 runs, 10 loops each)\n"
     ]
    }
   ],
   "source": [
    "%%timeit\n",
    "vector = list(range(1000000))\n",
    "norm_square_list_comprehension(vector)"
   ]
  },
  {
   "cell_type": "code",
   "execution_count": 28,
   "metadata": {},
   "outputs": [
    {
     "name": "stdout",
     "output_type": "stream",
     "text": [
      "7.76 ms ± 435 µs per loop (mean ± std. dev. of 7 runs, 100 loops each)\n"
     ]
    }
   ],
   "source": [
    "%%timeit\n",
    "vector_np = np.arange(1000000)\n",
    "norm_square_numpy(vector_np)    "
   ]
  },
  {
   "cell_type": "code",
   "execution_count": 29,
   "metadata": {},
   "outputs": [
    {
     "name": "stdout",
     "output_type": "stream",
     "text": [
      "3.95 ms ± 277 µs per loop (mean ± std. dev. of 7 runs, 100 loops each)\n"
     ]
    }
   ],
   "source": [
    "%%timeit\n",
    "vector_np1 = np.arange(1000000)\n",
    "norm_square_numpy_dot(vector_np1) # uses vectorized approach for computing the norm."
   ]
  }
 ],
 "metadata": {
  "kernelspec": {
   "display_name": "base",
   "language": "python",
   "name": "python3"
  },
  "language_info": {
   "codemirror_mode": {
    "name": "ipython",
    "version": 3
   },
   "file_extension": ".py",
   "mimetype": "text/x-python",
   "name": "python",
   "nbconvert_exporter": "python",
   "pygments_lexer": "ipython3",
   "version": "3.9.19"
  }
 },
 "nbformat": 4,
 "nbformat_minor": 2
}
